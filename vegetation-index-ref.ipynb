{
 "cells": [
  {
   "cell_type": "markdown",
   "metadata": {},
   "source": [
    "## Vegetation indexes to support the burned area delineation \n",
    "\n",
    "Data passed by reference\n"
   ]
  },
  {
   "cell_type": "code",
   "execution_count": 1,
   "metadata": {},
   "outputs": [],
   "source": [
    "workflow = dict([('id', 'vegetation-index-ref'),\n",
    "                ('label', 'Vegetation index by reference'),\n",
    "                ('doc', 'Vegetation index processor by reference')])\n"
   ]
  },
  {
   "cell_type": "code",
   "execution_count": 2,
   "metadata": {},
   "outputs": [],
   "source": [
    "input_reference = dict([('id', 'input_reference'), \n",
    "                        ('label', 'STAC item for vegetation index'),\n",
    "                        ('doc', 'STAC item for vegetation index'),\n",
    "                        ('value', 'https://earth-search.aws.element84.com/v0/collections/sentinel-s2-l2a-cogs/items/S2B_36RTT_20191205_0_L2A'), \n",
    "                        ('type', 'string'),\n",
    "                        ('scatter', 'True')])"
   ]
  },
  {
   "cell_type": "code",
   "execution_count": 3,
   "metadata": {},
   "outputs": [],
   "source": [
    "aoi = dict([('id', 'aoi'), \n",
    "              ('label', 'Area of interest'),\n",
    "              ('doc', 'Area of interest in WKT'),\n",
    "              ('value', 'POLYGON((30.358 29.243,30.358 29.545,30.8 29.545,30.8 29.243,30.358 29.243))'), \n",
    "              ('type', 'string')])"
   ]
  },
  {
   "cell_type": "markdown",
   "metadata": {},
   "source": [
    "### Vegetation indexes\n",
    "\n",
    "NBR = (NIR - SWIR22) / (NIR + SWIR22)\n",
    "NDVI = (NIR - Red) / (NIR + Red)\n",
    "NDWI = (NIR - SWIR16) / (NIR + SWIR16)"
   ]
  },
  {
   "cell_type": "code",
   "execution_count": 4,
   "metadata": {},
   "outputs": [],
   "source": [
    "import os\n",
    "import sys\n",
    "import gdal\n",
    "import numpy as np\n",
    "import logging\n",
    "from pystac import *\n",
    "from shapely.wkt import loads\n",
    "from time import sleep\n",
    "from helpers import *\n",
    "import shutil\n",
    "\n",
    "set_env()"
   ]
  },
  {
   "cell_type": "code",
   "execution_count": 5,
   "metadata": {},
   "outputs": [],
   "source": [
    "%load_ext autoreload\n",
    "%autoreload 2"
   ]
  },
  {
   "cell_type": "code",
   "execution_count": 6,
   "metadata": {},
   "outputs": [],
   "source": [
    "s2_item = S2_stac_item(input_reference['value'])\n",
    "       \n",
    "catalog = Catalog(id='catalog_id', \n",
    "                  description='catalog_description')\n",
    "\n",
    "\n",
    "catalog.add_item(s2_item.item)\n",
    "\n",
    "catalog.normalize_and_save(root_href='instac',\n",
    "                              catalog_type=CatalogType.SELF_CONTAINED)"
   ]
  },
  {
   "cell_type": "code",
   "execution_count": 7,
   "metadata": {},
   "outputs": [
    {
     "name": "stdout",
     "output_type": "stream",
     "text": [
      "* <Catalog id=catalog_id>\n",
      "  * <Item id=S2B_MSIL2A_20191205T083229_N0213_R021_T36RTT_20191205T111147>\n"
     ]
    }
   ],
   "source": [
    "cat = Catalog.from_file(os.path.join('instac', 'catalog.json')) \n",
    "    \n",
    "cat.describe()\n",
    "    "
   ]
  },
  {
   "cell_type": "code",
   "execution_count": 8,
   "metadata": {},
   "outputs": [],
   "source": [
    "item = next(cat.get_items())\n",
    "    \n",
    "eo_item = extensions.eo.EOItemExt(item)      \n",
    "\n",
    "for key in eo_item.item.assets.keys():\n",
    "\n",
    "    if eo_item.item.assets[key].properties['eo:bands'][0]['common_name'] in ['swir16']:\n",
    "\n",
    "         asset_swir16 = '/vsicurl/{}'.format(eo_item.item.assets[key].get_absolute_href())\n",
    "\n",
    "    if eo_item.item.assets[key].properties['eo:bands'][0]['common_name'] in ['swir22']:\n",
    "\n",
    "         asset_swir22 = '/vsicurl/{}'.format(eo_item.item.assets[key].get_absolute_href())\n",
    "\n",
    "    if eo_item.item.assets[key].properties['eo:bands'][0]['common_name'] in ['nir']:\n",
    "\n",
    "         asset_nir = '/vsicurl/{}'.format(eo_item.item.assets[key].get_absolute_href())\n",
    "\n",
    "    if eo_item.item.assets[key].properties['eo:bands'][0]['common_name'] in ['red']:\n",
    "\n",
    "         asset_red = '/vsicurl/{}'.format(eo_item.item.assets[key].get_absolute_href())"
   ]
  },
  {
   "cell_type": "code",
   "execution_count": 9,
   "metadata": {},
   "outputs": [],
   "source": [
    "vrt = '{0}.vrt'.format(item.id)\n",
    "    \n",
    "ds = gdal.BuildVRT(vrt,\n",
    "               [asset_red, asset_nir, asset_swir16, asset_swir22],\n",
    "               srcNodata=0,\n",
    "               xRes=10, \n",
    "               yRes=10,\n",
    "               separate=True)\n",
    "\n",
    "ds.FlushCache()\n",
    "\n",
    "ds = None\n",
    "\n",
    "del(ds)"
   ]
  },
  {
   "cell_type": "code",
   "execution_count": 10,
   "metadata": {},
   "outputs": [],
   "source": [
    "tif = '{0}.tif'.format(item.id)\n",
    "    \n",
    "min_lon, min_lat, max_lon, max_lat = loads(aoi['value']).bounds\n",
    "\n",
    "gdal.Translate(tif,\n",
    "               vrt,\n",
    "               outputType=gdal.GDT_Int16,\n",
    "               projWin=[min_lon, max_lat, max_lon, min_lat],\n",
    "               projWinSRS='EPSG:4326')\n",
    "\n",
    "os.remove(vrt)"
   ]
  },
  {
   "cell_type": "code",
   "execution_count": 11,
   "metadata": {},
   "outputs": [],
   "source": [
    "# remove STAC local catalog\n",
    "shutil.rmtree('instac')"
   ]
  },
  {
   "cell_type": "code",
   "execution_count": 12,
   "metadata": {},
   "outputs": [],
   "source": [
    "ds = gdal.Open(tif)\n",
    "width = ds.RasterXSize\n",
    "height = ds.RasterYSize\n",
    "\n",
    "input_geotransform = ds.GetGeoTransform()\n",
    "input_georef = ds.GetProjectionRef()\n",
    "\n",
    "red = ds.GetRasterBand(1).ReadAsArray()\n",
    "nir = ds.GetRasterBand(2).ReadAsArray()\n",
    "swir16 = ds.GetRasterBand(3).ReadAsArray()\n",
    "swir22 = ds.GetRasterBand(4).ReadAsArray()\n",
    "\n",
    "ds = None\n",
    "\n",
    "del(ds)\n",
    "\n",
    "os.remove(tif)"
   ]
  },
  {
   "cell_type": "code",
   "execution_count": 13,
   "metadata": {},
   "outputs": [],
   "source": [
    "nbr = np.zeros((height, width), dtype=np.uint)\n",
    "\n",
    "nbr = 10000 * ((nir - swir22) / (nir + swir22))\n",
    "\n",
    "swir22 = None\n",
    "\n",
    "del(swir22)\n",
    "\n",
    "ndvi = np.zeros((height, width), dtype=np.uint)\n",
    "\n",
    "ndvi = 10000 * ((nir - red) / (nir + red))\n",
    "\n",
    "red = None\n",
    "\n",
    "del(red)\n",
    "\n",
    "ndwi = np.zeros((height, width), dtype=np.uint)\n",
    "\n",
    "ndwi = 10000 * ((nir - swir16) / (nir + swir16))\n",
    "\n",
    "nir = swir16 = None\n",
    "\n",
    "del(nir)\n",
    "\n",
    "del(swir16)"
   ]
  },
  {
   "cell_type": "code",
   "execution_count": 14,
   "metadata": {},
   "outputs": [],
   "source": [
    "# STAC output\n",
    "default_bands = [{'name': 'NBR',\n",
    "          'common_name': 'nbr'}, \n",
    "         {'name': 'NDVI',\n",
    "          'common_name': 'ndvi'},\n",
    "         {'name': 'NDWI',\n",
    "          'common_name': 'ndwi'}]"
   ]
  },
  {
   "cell_type": "code",
   "execution_count": 15,
   "metadata": {},
   "outputs": [
    {
     "data": {
      "text/plain": [
       "<Catalog id=catalog-S2B_MSIL2A_20191205T083229_N0213_R021_T36RTT_20191205T111147>"
      ]
     },
     "execution_count": 15,
     "metadata": {},
     "output_type": "execute_result"
    }
   ],
   "source": [
    "catalog = Catalog(id='catalog-{}'.format(item.id),\n",
    "                      description='Results')\n",
    "\n",
    "catalog.clear_items()\n",
    "catalog.clear_children()"
   ]
  },
  {
   "cell_type": "code",
   "execution_count": 16,
   "metadata": {},
   "outputs": [],
   "source": [
    "item_name = 'INDEX_{}'.format(item.id)\n",
    "    \n",
    "    \n",
    "item.properties.pop('eo:bands', None)\n",
    "item.properties['eo:gsd'] = 10\n",
    "item.properties['eo:platform'] = ['sentinel-2']\n",
    "item.properties['eo:instrument'] = 'MSI'\n",
    "\n",
    "result_item = Item(id=item_name,\n",
    "                   geometry=item.geometry,\n",
    "                   bbox=item.bbox,\n",
    "                   datetime=item.datetime,\n",
    "                   properties=item.properties)\n",
    "\n",
    "result_item.common_metadata.set_gsd(10)\n",
    "\n",
    "eo_item = extensions.eo.EOItemExt(result_item)"
   ]
  },
  {
   "cell_type": "code",
   "execution_count": 17,
   "metadata": {},
   "outputs": [],
   "source": [
    "bands = []\n",
    "    \n",
    "for index, veg_index in enumerate(['NBR', 'NDVI', 'NDWI']):\n",
    "\n",
    "    temp_name = '_{}_{}.tif'.format(veg_index, item.id)\n",
    "    output_name = '{}_{}.tif'.format(veg_index, item.id)\n",
    "\n",
    "    driver = gdal.GetDriverByName('GTiff')\n",
    "\n",
    "    output = driver.Create(temp_name, \n",
    "                           width, \n",
    "                           height, \n",
    "                           1, \n",
    "                           gdal.GDT_Int16)\n",
    "\n",
    "    output.SetGeoTransform(input_geotransform)\n",
    "    output.SetProjection(input_georef)\n",
    "    output.GetRasterBand(1).WriteArray(nbr),\n",
    "\n",
    "    output.FlushCache()\n",
    "\n",
    "    sleep(5)\n",
    "\n",
    "    output = None\n",
    "\n",
    "    del(output)\n",
    "\n",
    "    os.makedirs(os.path.join('.', item_name),\n",
    "                exist_ok=True)\n",
    "\n",
    "    cog(temp_name, os.path.join('.', item_name, output_name))\n",
    "\n",
    "    result_item.add_asset(key=veg_index.lower(),\n",
    "                       asset=Asset(href='./{}'.format(output_name), \n",
    "                                   media_type=MediaType.GEOTIFF))\n",
    "\n",
    "    asset = result_item.get_assets()[veg_index.lower()]                                   \n",
    "\n",
    "    stac_band = extensions.eo.Band.create(name=veg_index.lower(), \n",
    "                                               common_name=default_bands[index]['common_name'],\n",
    "                                               description=default_bands[index]['name'])\n",
    "    bands.append(stac_band)\n",
    "\n",
    "    eo_item.set_bands([stac_band], asset=asset)\n",
    "\n",
    "eo_item.set_bands(bands)\n",
    "\n",
    "eo_item.apply(bands)    "
   ]
  },
  {
   "cell_type": "code",
   "execution_count": 18,
   "metadata": {},
   "outputs": [],
   "source": [
    "catalog.add_items([result_item])\n",
    "    \n",
    "catalog.normalize_and_save(root_href='./',\n",
    "                            catalog_type=CatalogType.SELF_CONTAINED)\n",
    "    "
   ]
  },
  {
   "cell_type": "code",
   "execution_count": null,
   "metadata": {},
   "outputs": [],
   "source": []
  }
 ],
 "metadata": {
  "kernelspec": {
   "display_name": "Python [conda env:env_vi_ref]",
   "language": "python",
   "name": "conda-env-env_vi_ref-py"
  },
  "language_info": {
   "codemirror_mode": {
    "name": "ipython",
    "version": 3
   },
   "file_extension": ".py",
   "mimetype": "text/x-python",
   "name": "python",
   "nbconvert_exporter": "python",
   "pygments_lexer": "ipython3",
   "version": "3.7.8"
  }
 },
 "nbformat": 4,
 "nbformat_minor": 4
}
